{
  "nbformat": 4,
  "nbformat_minor": 0,
  "metadata": {
    "colab": {
      "provenance": []
    },
    "kernelspec": {
      "name": "python3",
      "display_name": "Python 3"
    },
    "language_info": {
      "name": "python"
    }
  },
  "cells": [
    {
      "cell_type": "markdown",
      "source": [
        "# 8. String to Integer (atoi)"
      ],
      "metadata": {
        "id": "sBXdn2Ivb_kT"
      }
    },
    {
      "cell_type": "code",
      "source": [
        "class Solution(object):\n",
        "    def myAtoi(self, s):\n",
        "        \"\"\"\n",
        "        :type s: str\n",
        "        :rtype: int\n",
        "        \"\"\"\n",
        "        num = '0123456789'\n",
        "        res = ''\n",
        "        for x in s:\n",
        "            if x == ' ' and len(res) == 0:\n",
        "                continue\n",
        "            if x != ' ' and (x in '-+' or x in num) and len(res) == 0:\n",
        "                res += x\n",
        "            elif x in num:\n",
        "                res += x\n",
        "            else:\n",
        "                break\n",
        "        if res == '' or res in '-+':\n",
        "            return 0\n",
        "        else:\n",
        "# to avoid int casting simply run a loop and use ord(char) - ord('0')\n",
        "            if int(res) < -(2**31):\n",
        "                return -(2**31)\n",
        "            elif int(res) > (2**31 - 1):\n",
        "                return (2**31 - 1)\n",
        "            else:\n",
        "                return int(res)"
      ],
      "metadata": {
        "id": "SeemyIEVcBgq"
      },
      "execution_count": 33,
      "outputs": []
    },
    {
      "cell_type": "markdown",
      "source": [
        "\n",
        "\n",
        "\n",
        "# 438. Find All Anagrams in a String"
      ],
      "metadata": {
        "id": "s_hjSz6XXVCH"
      }
    },
    {
      "cell_type": "code",
      "source": [
        "# Method 1:\n",
        "class Solution(object):\n",
        "    def findAnagrams(self, s, p):\n",
        "        \"\"\"\n",
        "        :type s: str\n",
        "        :type p: str\n",
        "        :rtype: List[int]\n",
        "        \"\"\"\n",
        "        result=[]\n",
        "        p = sorted(p)\n",
        "\n",
        "        n = len(p)\n",
        "        for i in range(len(s)-n+1):\n",
        "            sub = sorted(s[i:i+n])\n",
        "            if sub == p:\n",
        "                result.append(i)\n",
        "        return result"
      ],
      "metadata": {
        "id": "dv3am97FXbk4"
      },
      "execution_count": 1,
      "outputs": []
    },
    {
      "cell_type": "code",
      "source": [
        "# Method 2:"
      ],
      "metadata": {
        "id": "buWRqv6bXeI7"
      },
      "execution_count": 2,
      "outputs": []
    },
    {
      "cell_type": "code",
      "source": [
        "from collections import Counter\n",
        "\n",
        "class Solution(object):\n",
        "    def findAnagrams(self, s, p):\n",
        "        \"\"\"\n",
        "        :type s: str\n",
        "        :type p: str\n",
        "        :rtype: List[int]\n",
        "        \"\"\"\n",
        "        result = []\n",
        "        p_len, s_len = len(p), len(s)\n",
        "\n",
        "        # Return empty result if p is longer than s\n",
        "        if p_len > s_len:\n",
        "            return result\n",
        "\n",
        "        # Create frequency map for p\n",
        "        p_map = Counter(p)\n",
        "        # Create frequency map for the first window of s\n",
        "        s_map = Counter(s[:p_len-1])\n",
        "\n",
        "        # Sliding window over s\n",
        "        for i in range(p_len - 1, s_len):\n",
        "            # Add the current character to the window\n",
        "            s_map[s[i]] += 1\n",
        "\n",
        "            # If the frequency maps match, it's an anagram\n",
        "            if s_map == p_map:\n",
        "                result.append(i - p_len + 1)\n",
        "\n",
        "            # Remove the character that's left the window\n",
        "            s_map[s[i - p_len + 1]] -= 1\n",
        "            # If the count of that character becomes 0, remove it from the map\n",
        "            if s_map[s[i - p_len + 1]] == 0:\n",
        "                del s_map[s[i - p_len + 1]]\n",
        "\n",
        "        return result\n"
      ],
      "metadata": {
        "id": "jsFxDCa1Yy6K"
      },
      "execution_count": 3,
      "outputs": []
    },
    {
      "cell_type": "markdown",
      "source": [
        "# 151. Reverse Words in a String"
      ],
      "metadata": {
        "id": "SZ46P39lbD69"
      }
    },
    {
      "cell_type": "code",
      "source": [
        "class Solution(object):\n",
        "    def reverseWords(self, s):\n",
        "        \"\"\"\n",
        "        :type s: str\n",
        "        :rtype: str\n",
        "        \"\"\"\n",
        "\n",
        "        result = s.split()[::-1]\n",
        "\n",
        "        return \" \".join(result)"
      ],
      "metadata": {
        "id": "gCPzuGW2ZCC-"
      },
      "execution_count": 21,
      "outputs": []
    },
    {
      "cell_type": "code",
      "source": [],
      "metadata": {
        "id": "DFQNAIhFbr0b"
      },
      "execution_count": null,
      "outputs": []
    }
  ]
}