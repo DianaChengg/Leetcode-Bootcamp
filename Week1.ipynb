{
  "nbformat": 4,
  "nbformat_minor": 0,
  "metadata": {
    "colab": {
      "provenance": []
    },
    "kernelspec": {
      "name": "python3",
      "display_name": "Python 3"
    },
    "language_info": {
      "name": "python"
    }
  },
  "cells": [
    {
      "cell_type": "markdown",
      "source": [
        "# Two Sum II - Input Array Is Sorted"
      ],
      "metadata": {
        "id": "4XT9ylBTqrYo"
      }
    },
    {
      "cell_type": "markdown",
      "source": [
        "Given a 1-indexed array of integers numbers that is already sorted in non-decreasing order, find two numbers such that they add up to a specific target number. Let these two numbers be numbers[index1] and numbers[index2] where 1 <= index1 < index2 <= numbers.length."
      ],
      "metadata": {
        "id": "eJTZ1MD2q362"
      }
    },
    {
      "cell_type": "code",
      "source": [
        "class Solution(object):\n",
        "    def twoSum(self, numbers, target):\n",
        "        index1=0\n",
        "        index2= len(numbers)-1\n",
        "        while index1 < index2:\n",
        "            trial = numbers[index1] + numbers[index2]\n",
        "            if trial == target:\n",
        "                return index1+1, index2+1\n",
        "            elif trial < target:\n",
        "                index1 += 1\n",
        "            else:\n",
        "                index2 -=1\n",
        "\n",
        "\n",
        "        return False\n",
        ""
      ],
      "metadata": {
        "id": "CW_DLXtjqr9i"
      },
      "execution_count": 60,
      "outputs": []
    },
    {
      "cell_type": "code",
      "source": [
        "class Solution_hashmap(object):\n",
        "    def twoSum(self, nums, target):\n",
        "        hashmap = {}\n",
        "        for i in range(len(nums)):\n",
        "            complement = target - nums[i]\n",
        "            if complement in hashmap:\n",
        "                return [i, hashmap[complement]]\n",
        "            hashmap[nums[i]] = i\n"
      ],
      "metadata": {
        "id": "9c-poqTQBUkI"
      },
      "execution_count": 54,
      "outputs": []
    },
    {
      "cell_type": "code",
      "source": [
        "# Instantiate the class\n",
        "solution = Solution()\n",
        "\n",
        "# Test case 1: Simple example\n",
        "numbers = [2, 7, 11, 15]\n",
        "target = 9\n",
        "result = solution.twoSum(numbers, target)\n",
        "print(f\"Test case 1 result: {result} (Expected: (1, 2))\")\n",
        "\n",
        "# Test case 2: Larger numbers\n",
        "numbers = [1, 2, 3, 4, 6]\n",
        "target = 10\n",
        "result = solution.twoSum(numbers, target)\n",
        "print(f\"Test case 2 result: {result} (Expected: (4, 5))\")\n",
        "\n",
        "# Test case 3: No solution\n",
        "numbers = [1, 3, 5, 6]\n",
        "target = 10\n",
        "result = solution.twoSum(numbers, target)\n",
        "print(f\"Test case 3 result: {result} (Expected: False)\")\n",
        "\n",
        "# Test case 4: Single pair\n",
        "numbers = [1, 2]\n",
        "target = 3\n",
        "result = solution.twoSum(numbers, target)\n",
        "print(f\"Test case 4 result: {result} (Expected: (1, 2))\")\n",
        "\n",
        "# Test case 5: Negative numbers\n",
        "numbers = [-3, -1, 2, 4, 6]\n",
        "target = 1\n",
        "result = solution.twoSum(numbers, target)\n",
        "print(f\"Test case 5 result: {result} (Expected: (2, 3))\")\n"
      ],
      "metadata": {
        "colab": {
          "base_uri": "https://localhost:8080/"
        },
        "id": "v34-QO3IuJVG",
        "outputId": "d3fc461b-98ce-474a-b2e3-74404a386c2c"
      },
      "execution_count": 61,
      "outputs": [
        {
          "output_type": "stream",
          "name": "stdout",
          "text": [
            "Test case 1 result: (1, 2) (Expected: (1, 2))\n",
            "Test case 2 result: (4, 5) (Expected: (4, 5))\n",
            "Test case 3 result: False (Expected: False)\n",
            "Test case 4 result: (1, 2) (Expected: (1, 2))\n",
            "Test case 5 result: (1, 4) (Expected: (2, 3))\n"
          ]
        }
      ]
    },
    {
      "cell_type": "markdown",
      "source": [
        "# Product of Array Except Self"
      ],
      "metadata": {
        "id": "7el3BLJnzuMu"
      }
    },
    {
      "cell_type": "markdown",
      "source": [
        "Given an integer array nums, return an array answer such that answer[i] is equal to the product of all the elements of nums except nums[i].\n",
        "\n",
        "The product of any prefix or suffix of nums is guaranteed to fit in a 32-bit integer.\n",
        "\n",
        "You must write an algorithm that runs in O(n) time and without using the division operation."
      ],
      "metadata": {
        "id": "px2Ym4ICzwvY"
      }
    },
    {
      "cell_type": "code",
      "source": [
        "# Run Time Error\n",
        "import numpy as np\n",
        "class Solution_old(object):\n",
        "    def productExceptSelf(self, nums):\n",
        "        \"\"\"\n",
        "        :type nums: List[int]\n",
        "        :rtype: List[int]\n",
        "        \"\"\"\n",
        "        n=len(nums)\n",
        "        result = [1] * n\n",
        "        for i in range(0,n):\n",
        "            if nums[i]!= 0:\n",
        "                result[i] = np.prod(nums)/nums[i]\n",
        "            else:\n",
        "                if i ==0:\n",
        "                    result[i]= np.prod(nums[1:n])\n",
        "                elif i == n-1:\n",
        "                    result [i] = np.prod(nums[0:n-1])\n",
        "                else:\n",
        "                    result[i] = np.prod(nums[0:i])*np.prod(nums[i+1:n])\n",
        "        return result\n",
        ""
      ],
      "metadata": {
        "id": "yS91_EeMzuYA"
      },
      "execution_count": 43,
      "outputs": []
    },
    {
      "cell_type": "code",
      "source": [
        "class Solution(object):\n",
        "    def productExceptSelf(self, nums):\n",
        "        \"\"\"\n",
        "        :type nums: List[int]\n",
        "        :rtype: List[int]\n",
        "        \"\"\"\n",
        "        n = len(nums)\n",
        "        result = [1] * n  # Initialize result array with 1's\n",
        "\n",
        "        # Calculate left product for each element\n",
        "        left_product = 1\n",
        "        for i in range(n):\n",
        "            result[i] = left_product\n",
        "            left_product *= nums[i]\n",
        "\n",
        "        # Calculate right product for each element and multiply with the left product\n",
        "        right_product = 1\n",
        "        for i in range(n - 1, -1, -1):\n",
        "            result[i] *= right_product\n",
        "            right_product *= nums[i]\n",
        "\n",
        "        return result\n"
      ],
      "metadata": {
        "id": "tJeZWReR2fZd"
      },
      "execution_count": 44,
      "outputs": []
    },
    {
      "cell_type": "code",
      "source": [
        "# Test the Solution class\n",
        "solution = Solution()\n",
        "\n",
        "# Test case 1: Basic case\n",
        "nums = [1, 2, 3, 4]\n",
        "expected_result = [24, 12, 8, 6]\n",
        "result = solution.productExceptSelf(nums)\n",
        "print(f\"Test case 1 result: {result} (Expected: {expected_result})\")\n",
        "assert result == expected_result, f\"Test case 1 failed: got {result}, expected {expected_result}\"\n",
        "\n",
        "# Test case 2: Including zero\n",
        "nums = [1, 2, 0, 4]\n",
        "expected_result = [0, 0, 8, 0]\n",
        "result = solution.productExceptSelf(nums)\n",
        "print(f\"Test case 2 result: {result} (Expected: {expected_result})\")\n",
        "assert result == expected_result, f\"Test case 2 failed: got {result}, expected {expected_result}\"\n",
        "\n",
        "# Test case 3: All ones\n",
        "nums = [1, 1, 1, 1]\n",
        "expected_result = [1, 1, 1, 1]\n",
        "result = solution.productExceptSelf(nums)\n",
        "print(f\"Test case 3 result: {result} (Expected: {expected_result})\")\n",
        "assert result == expected_result, f\"Test case 3 failed: got {result}, expected {expected_result}\"\n",
        "\n",
        "# Test case 4: Negative numbers\n",
        "nums = [-1, 2, -3, 4]\n",
        "expected_result = [-24, 12, -8, 6]\n",
        "result = solution.productExceptSelf(nums)\n",
        "print(f\"Test case 4 result: {result} (Expected: {expected_result})\")\n",
        "assert result == expected_result, f\"Test case 4 failed: got {result}, expected {expected_result}\"\n",
        "\n",
        "# Test case 5: Single element\n",
        "nums = [42]\n",
        "expected_result = [1]  # By definition, the product of \"other elements\" is 1 when there's only one element\n",
        "result = solution.productExceptSelf(nums)\n",
        "print(f\"Test case 5 result: {result} (Expected: {expected_result})\")\n",
        "assert result == expected_result, f\"Test case 5 failed: got {result}, expected {expected_result}\"\n",
        "\n",
        "print(\"All test cases passed!\")\n"
      ],
      "metadata": {
        "colab": {
          "base_uri": "https://localhost:8080/"
        },
        "id": "8mnrORXV95Q1",
        "outputId": "75505b24-5a5d-4ee5-a6c2-b8e56e7dc23d"
      },
      "execution_count": 45,
      "outputs": [
        {
          "output_type": "stream",
          "name": "stdout",
          "text": [
            "Test case 1 result: [24, 12, 8, 6] (Expected: [24, 12, 8, 6])\n",
            "Test case 2 result: [0, 0, 8, 0] (Expected: [0, 0, 8, 0])\n",
            "Test case 3 result: [1, 1, 1, 1] (Expected: [1, 1, 1, 1])\n",
            "Test case 4 result: [-24, 12, -8, 6] (Expected: [-24, 12, -8, 6])\n",
            "Test case 5 result: [1] (Expected: [1])\n",
            "All test cases passed!\n"
          ]
        }
      ]
    },
    {
      "cell_type": "markdown",
      "source": [
        "# Sort Colors"
      ],
      "metadata": {
        "id": "WY37IU6K-GbB"
      }
    },
    {
      "cell_type": "markdown",
      "source": [
        "Given an array nums with n objects colored red, white, or blue, sort them in-place so that objects of the same color are adjacent, with the colors in the order red, white, and blue.\n",
        "\n",
        "We will use the integers 0, 1, and 2 to represent the color red, white, and blue, respectively.\n",
        "\n",
        "You must solve this problem without using the library's sort function."
      ],
      "metadata": {
        "id": "sN3uXvcQ-Lcy"
      }
    },
    {
      "cell_type": "code",
      "source": [
        "class Solution:\n",
        "    def sortColors(self, nums):\n",
        "        low, mid, high = 0, 0, len(nums) - 1\n",
        "\n",
        "        while mid <= high:\n",
        "            if nums[mid] == 0:\n",
        "                # Swap current mid with low\n",
        "                nums[low], nums[mid] = nums[mid], nums[low]\n",
        "                low += 1\n",
        "                mid += 1\n",
        "            elif nums[mid] == 1:\n",
        "                # Just move mid forward\n",
        "                mid += 1\n",
        "            else:\n",
        "                # Swap current mid with high\n",
        "                nums[high], nums[mid] = nums[mid], nums[high]\n",
        "                high -= 1\n"
      ],
      "metadata": {
        "id": "MF16qvla-HBB"
      },
      "execution_count": 62,
      "outputs": []
    }
  ]
}